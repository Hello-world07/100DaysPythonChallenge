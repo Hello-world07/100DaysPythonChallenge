{
 "cells": [
  {
   "cell_type": "code",
   "execution_count": null,
   "id": "fafd3e5c",
   "metadata": {},
   "outputs": [],
   "source": [
    "name = \"Apple\"\n",
    "price = 50\n",
    "print(f\"{name:<10} | {price}\")   # Left align\n",
    "print(f\"{name:>10} | {price}\")   # Right align\n",
    "print(f\"{name:^10} | {price}\")   # Center align\n"
   ]
  },
  {
   "cell_type": "code",
   "execution_count": 2,
   "id": "52469dd4",
   "metadata": {},
   "outputs": [
    {
     "name": "stdout",
     "output_type": "stream",
     "text": [
      "True\n",
      "True\n"
     ]
    }
   ],
   "source": [
    "print(0.1 + 0.3 == 0.4)\n",
    "print(0.2 + 0.2 == 0.4)"
   ]
  },
  {
   "cell_type": "code",
   "execution_count": null,
   "id": "b81d5872",
   "metadata": {},
   "outputs": [
    {
     "name": "stdout",
     "output_type": "stream",
     "text": [
      "apple      |    50\n"
     ]
    }
   ],
   "source": [
    "\n",
    "# Item names left aligned (:<10)\n",
    "\n",
    "# Prices right aligned with 3 spaces (:>5)\n",
    "print(f\"{'apple':<10} | {50:> 5}\")"
   ]
  },
  {
   "cell_type": "code",
   "execution_count": null,
   "id": "07805b75",
   "metadata": {},
   "outputs": [
    {
     "name": "stdout",
     "output_type": "stream",
     "text": [
      "0.30000000000000004 == 0.4 -> False\n"
     ]
    }
   ],
   "source": [
    "a, b = 0.1, 0.2\n",
    "print(f\"{a + b} == 0.4  {a + b == 0.4}\")\n"
   ]
  },
  {
   "cell_type": "code",
   "execution_count": 6,
   "id": "dd51eb2c",
   "metadata": {},
   "outputs": [
    {
     "name": "stdout",
     "output_type": "stream",
     "text": [
      " 123,456,789\n"
     ]
    }
   ],
   "source": [
    "# formatting numbers with commas\n",
    "\n",
    "number = 123456789\n",
    "print(f\"{number: ,}\")"
   ]
  },
  {
   "cell_type": "code",
   "execution_count": 9,
   "id": "4354a81c",
   "metadata": {},
   "outputs": [
    {
     "name": "stdout",
     "output_type": "stream",
     "text": [
      "x = 24\n"
     ]
    }
   ],
   "source": [
    "x = 24\n",
    "print(f\"{x = }\")"
   ]
  },
  {
   "cell_type": "code",
   "execution_count": 17,
   "id": "246edc0c",
   "metadata": {},
   "outputs": [
    {
     "name": "stdout",
     "output_type": "stream",
     "text": [
      " Pranith , length = 7\n"
     ]
    }
   ],
   "source": [
    "name = \"Pranith\"\n",
    "print(f\" {name} , length = {len(name)}\")\n"
   ]
  }
 ],
 "metadata": {
  "kernelspec": {
   "display_name": "Python 3",
   "language": "python",
   "name": "python3"
  },
  "language_info": {
   "codemirror_mode": {
    "name": "ipython",
    "version": 3
   },
   "file_extension": ".py",
   "mimetype": "text/x-python",
   "name": "python",
   "nbconvert_exporter": "python",
   "pygments_lexer": "ipython3",
   "version": "3.13.3"
  }
 },
 "nbformat": 4,
 "nbformat_minor": 5
}
