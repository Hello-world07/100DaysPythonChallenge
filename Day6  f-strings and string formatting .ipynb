{
 "cells": [
  {
   "cell_type": "code",
   "execution_count": null,
   "id": "fafd3e5c",
   "metadata": {},
   "outputs": [],
   "source": [
    "name = \"Apple\"\n",
    "price = 50\n",
    "print(f\"{name:<10} | {price}\")   # Left align\n",
    "print(f\"{name:>10} | {price}\")   # Right align\n",
    "print(f\"{name:^10} | {price}\")   # Center align\n"
   ]
  },
  {
   "cell_type": "code",
   "execution_count": 2,
   "id": "52469dd4",
   "metadata": {},
   "outputs": [
    {
     "name": "stdout",
     "output_type": "stream",
     "text": [
      "True\n",
      "True\n"
     ]
    }
   ],
   "source": [
    "print(0.1 + 0.3 == 0.4)\n",
    "print(0.2 + 0.2 == 0.4)"
   ]
  },
  {
   "cell_type": "code",
   "execution_count": null,
   "id": "b81d5872",
   "metadata": {},
   "outputs": [
    {
     "name": "stdout",
     "output_type": "stream",
     "text": [
      "apple      |    50\n"
     ]
    }
   ],
   "source": [
    "\n",
    "# Item names left aligned (:<10)\n",
    "\n",
    "# Prices right aligned with 3 spaces (:>5)\n",
    "print(f\"{'apple':<10} | {50:> 5}\")"
   ]
  },
  {
   "cell_type": "code",
   "execution_count": null,
   "id": "07805b75",
   "metadata": {},
   "outputs": [
    {
     "name": "stdout",
     "output_type": "stream",
     "text": [
      "0.30000000000000004 == 0.4 -> False\n"
     ]
    }
   ],
   "source": [
    "a, b = 0.1, 0.2\n",
    "print(f\"{a + b} == 0.4  {a + b == 0.4}\")\n"
   ]
  },
  {
   "cell_type": "code",
   "execution_count": 6,
   "id": "dd51eb2c",
   "metadata": {},
   "outputs": [
    {
     "name": "stdout",
     "output_type": "stream",
     "text": [
      " 123,456,789\n"
     ]
    }
   ],
   "source": [
    "# formatting numbers with commas\n",
    "\n",
    "number = 123456789\n",
    "print(f\"{number: ,}\")"
   ]
  },
  {
   "cell_type": "code",
   "execution_count": 9,
   "id": "4354a81c",
   "metadata": {},
   "outputs": [
    {
     "name": "stdout",
     "output_type": "stream",
     "text": [
      "x = 24\n"
     ]
    }
   ],
   "source": [
    "x = 24\n",
    "print(f\"{x = }\")"
   ]
  },
  {
   "cell_type": "code",
   "execution_count": 17,
   "id": "246edc0c",
   "metadata": {},
   "outputs": [
    {
     "name": "stdout",
     "output_type": "stream",
     "text": [
      " Pranith , length = 7\n"
     ]
    }
   ],
   "source": [
    "name = \"Pranith\"\n",
    "print(f\" {name} , length = {len(name)}\")\n"
   ]
  },
  {
   "cell_type": "code",
   "execution_count": 26,
   "id": "0e1dabac",
   "metadata": {},
   "outputs": [
    {
     "name": "stdout",
     "output_type": "stream",
     "text": [
      "Today: 12-08-2025 \n"
     ]
    }
   ],
   "source": [
    "from datetime import datetime\n",
    "today = datetime.now()\n",
    "print(f\"Today: {today:%d-%m-%Y }\")\n"
   ]
  },
  {
   "cell_type": "code",
   "execution_count": null,
   "id": "706eb3d4",
   "metadata": {},
   "outputs": [
    {
     "name": "stdout",
     "output_type": "stream",
     "text": [
      "{'name': 'Pranith', 'age': 31}\n",
      "Name: Pranith, Age: 31 , height None\n"
     ]
    },
    {
     "ename": "KeyError",
     "evalue": "'date'",
     "output_type": "error",
     "traceback": [
      "\u001b[31m---------------------------------------------------------------------------\u001b[39m",
      "\u001b[31mKeyError\u001b[39m                                  Traceback (most recent call last)",
      "\u001b[36mCell\u001b[39m\u001b[36m \u001b[39m\u001b[32mIn[35]\u001b[39m\u001b[32m, line 6\u001b[39m\n\u001b[32m      3\u001b[39m \u001b[38;5;28mprint\u001b[39m(\u001b[33mf\u001b[39m\u001b[33m\"\u001b[39m\u001b[38;5;132;01m{\u001b[39;00mdata\u001b[38;5;132;01m}\u001b[39;00m\u001b[33m\"\u001b[39m)\n\u001b[32m      4\u001b[39m \u001b[38;5;28mprint\u001b[39m(\u001b[33mf\u001b[39m\u001b[33m\"\u001b[39m\u001b[33mName: \u001b[39m\u001b[38;5;132;01m{\u001b[39;00mdata.get(\u001b[33m'\u001b[39m\u001b[33mname\u001b[39m\u001b[33m'\u001b[39m)\u001b[38;5;132;01m}\u001b[39;00m\u001b[33m, Age: \u001b[39m\u001b[38;5;132;01m{\u001b[39;00mdata.get(\u001b[33m'\u001b[39m\u001b[33mage\u001b[39m\u001b[33m'\u001b[39m)\u001b[38;5;132;01m}\u001b[39;00m\u001b[33m , height \u001b[39m\u001b[38;5;132;01m{\u001b[39;00mdata.get(\u001b[33m'\u001b[39m\u001b[33mheight\u001b[39m\u001b[33m'\u001b[39m)\u001b[38;5;132;01m}\u001b[39;00m\u001b[33m\"\u001b[39m)\n\u001b[32m----> \u001b[39m\u001b[32m6\u001b[39m \u001b[38;5;28mprint\u001b[39m(\u001b[33mf\u001b[39m\u001b[33m\"\u001b[39m\u001b[38;5;132;01m{\u001b[39;00mdata[\u001b[33m'\u001b[39m\u001b[33mname\u001b[39m\u001b[33m'\u001b[39m]\u001b[38;5;132;01m}\u001b[39;00m\u001b[33m , age: \u001b[39m\u001b[38;5;132;01m{\u001b[39;00mdata[\u001b[33m'\u001b[39m\u001b[33mage\u001b[39m\u001b[33m'\u001b[39m]\u001b[38;5;132;01m}\u001b[39;00m\u001b[33m , \u001b[39m\u001b[38;5;132;01m{\u001b[39;00m\u001b[43mdata\u001b[49m\u001b[43m[\u001b[49m\u001b[33;43m'\u001b[39;49m\u001b[33;43mdate\u001b[39;49m\u001b[33;43m'\u001b[39;49m\u001b[43m]\u001b[49m\u001b[38;5;132;01m}\u001b[39;00m\u001b[33m\"\u001b[39m)\n\u001b[32m      8\u001b[39m \u001b[38;5;66;03m# # data.get('name')\u001b[39;00m\n\u001b[32m      9\u001b[39m \n\u001b[32m     10\u001b[39m \u001b[38;5;66;03m# Tries to fetch the value for \"name\".\u001b[39;00m\n\u001b[32m     11\u001b[39m \n\u001b[32m     12\u001b[39m \u001b[38;5;66;03m# If the key does not exist, it returns None (or a default value you provide) instead of an error.\u001b[39;00m\n",
      "\u001b[31mKeyError\u001b[39m: 'date'"
     ]
    }
   ],
   "source": [
    "data = {\"name\": \"Pranith\", \"age\": 31}\n",
    "\n",
    "print(f\"{data}\")\n",
    "print(f\"Name: {data.get('name')}, Age: {data.get('age')} , height {data.get('height')}\") \n",
    "# use get()\n",
    "\n",
    "print(f\"{data['name']} , age: {data['age']} \")\n",
    "\n",
    "# # data.get('name')\n",
    "\n",
    "# Tries to fetch the value for \"name\".\n",
    "\n",
    "# If the key does not exist, it returns None (or a default value you provide) instead of an error.\n"
   ]
  }
 ],
 "metadata": {
  "kernelspec": {
   "display_name": "Python 3",
   "language": "python",
   "name": "python3"
  },
  "language_info": {
   "codemirror_mode": {
    "name": "ipython",
    "version": 3
   },
   "file_extension": ".py",
   "mimetype": "text/x-python",
   "name": "python",
   "nbconvert_exporter": "python",
   "pygments_lexer": "ipython3",
   "version": "3.13.3"
  }
 },
 "nbformat": 4,
 "nbformat_minor": 5
}
