{
  "cells": [
    {
      "cell_type": "code",
      "execution_count": null,
      "metadata": {
        "colab": {
          "base_uri": "https://localhost:8080/"
        },
        "id": "qgwyjML8vtZQ",
        "outputId": "01c29cd1-5117-4d64-bc9f-069441c8e264"
      },
      "outputs": [],
      "source": [
        "a = 15\n",
        "b = 4\n",
        "print(a // b)"
      ]
    },
    {
      "cell_type": "code",
      "execution_count": null,
      "metadata": {
        "colab": {
          "base_uri": "https://localhost:8080/"
        },
        "id": "sHFCi4vNwuCe",
        "outputId": "115b5f2a-33e0-445c-fcd5-05be5d954b6a"
      },
      "outputs": [],
      "source": [
        "a, b = 9 ,2\n",
        "print(a / b)\n",
        "print(a // b)\n",
        "print(a % b)"
      ]
    },
    {
      "cell_type": "code",
      "execution_count": 5,
      "metadata": {
        "colab": {
          "base_uri": "https://localhost:8080/"
        },
        "id": "JDIEx56ExnuL",
        "outputId": "c467c442-dbf8-4812-fbef-e2dbf398c8dd"
      },
      "outputs": [
        {
          "name": "stdout",
          "output_type": "stream",
          "text": [
            "79 31 2.2916666666666665 2 7 1320\n"
          ]
        }
      ],
      "source": [
        "a = int(input(\"enter first number: \"))\n",
        "b = int(input(\"enter second number: \"))\n",
        "print((a + b), (a -b ), (a / b), (a // b), (a % b ),(a *b) )\n"
      ]
    },
    {
      "cell_type": "code",
      "execution_count": 6,
      "metadata": {
        "colab": {
          "base_uri": "https://localhost:8080/"
        },
        "id": "p1PQxuo73Enc",
        "outputId": "8e6b7987-f270-48d2-8f6b-87152b3993c8"
      },
      "outputs": [
        {
          "name": "stdout",
          "output_type": "stream",
          "text": [
            "2\n",
            "2.5\n"
          ]
        }
      ],
      "source": [
        "print(10 // 4)\n",
        "print(10 / 4)\n"
      ]
    },
    {
      "cell_type": "code",
      "execution_count": null,
      "metadata": {
        "colab": {
          "base_uri": "https://localhost:8080/"
        },
        "id": "Ppt4Q7dq3Nf7",
        "outputId": "e4c0e50e-9b97-4268-adfd-0d1252945695"
      },
      "outputs": [],
      "source": [
        "age = 20\n",
        "print(\"Your age is \" + str(age))"
      ]
    },
    {
      "cell_type": "code",
      "execution_count": 7,
      "metadata": {
        "colab": {
          "base_uri": "https://localhost:8080/"
        },
        "id": "7WornkO13Q3-",
        "outputId": "101d89ba-e60c-451e-d544-86f0eb92e0eb"
      },
      "outputs": [
        {
          "name": "stdout",
          "output_type": "stream",
          "text": [
            "6\n"
          ]
        }
      ],
      "source": [
        "a=int(\"20\",3)\n",
        "print(a)"
      ]
    },
    {
      "cell_type": "code",
      "execution_count": 8,
      "metadata": {
        "colab": {
          "base_uri": "https://localhost:8080/"
        },
        "id": "SZPL06YMBfa5",
        "outputId": "4fad1ebd-905b-4cd1-b9d5-01ffa4e57410"
      },
      "outputs": [
        {
          "name": "stdout",
          "output_type": "stream",
          "text": [
            "342391\n"
          ]
        }
      ],
      "source": [
        "a = int(\"1234567\", 8)\n",
        "print(a)"
      ]
    },
    {
      "cell_type": "code",
      "execution_count": 9,
      "metadata": {
        "colab": {
          "base_uri": "https://localhost:8080/"
        },
        "id": "YQQ2NDv5D0jc",
        "outputId": "5cefa748-aa22-4000-cc29-eb63f3a999bb"
      },
      "outputs": [
        {
          "name": "stdout",
          "output_type": "stream",
          "text": [
            "you age is:  20\n"
          ]
        }
      ],
      "source": [
        "x = 20\n",
        "print(\"you age is: \" ,x)"
      ]
    },
    {
      "cell_type": "code",
      "execution_count": 10,
      "metadata": {
        "colab": {
          "base_uri": "https://localhost:8080/"
        },
        "id": "S1_AIrvbFq0H",
        "outputId": "6c261de6-49d7-43d1-f2fe-f6fa1ba1dfe4"
      },
      "outputs": [
        {
          "name": "stdout",
          "output_type": "stream",
          "text": [
            "87\n"
          ]
        }
      ],
      "source": [
        "print(int(\"127\", 8))\n"
      ]
    },
    {
      "cell_type": "code",
      "execution_count": 11,
      "metadata": {
        "colab": {
          "base_uri": "https://localhost:8080/"
        },
        "id": "N0jQmYRTVPjt",
        "outputId": "3073f871-dcaa-4864-a5cb-35ab210c179d"
      },
      "outputs": [
        {
          "name": "stdout",
          "output_type": "stream",
          "text": [
            "NHY\n"
          ]
        }
      ],
      "source": [
        "word = \"PYTHON\"\n",
        "print(word[::-2])"
      ]
    },
    {
      "cell_type": "code",
      "execution_count": 3,
      "metadata": {
        "colab": {
          "base_uri": "https://localhost:8080/"
        },
        "id": "tnjn52WAOSaf",
        "outputId": "e9a55d71-9a09-40de-81b3-eaf82d63ca0b"
      },
      "outputs": [
        {
          "name": "stdout",
          "output_type": "stream",
          "text": [
            "hello world.\n",
            "python world.  \n",
            "10\n",
            "['hello', 'world.']\n",
            "jello world.  \n"
          ]
        }
      ],
      "source": [
        "x = \"hello world.  \"\n",
        "print(x.strip())\n",
        "print(x.replace(\"hello\" , \"python\"))\n",
        "print(x.find(\"d\"))\n",
        "print(x.split())\n",
        "x = \"j\" + x[1:]\n",
        "print(x)"
      ]
    },
    {
      "cell_type": "code",
      "execution_count": null,
      "metadata": {
        "colab": {
          "base_uri": "https://localhost:8080/"
        },
        "id": "Lap1nAYVQg_r",
        "outputId": "a16e881a-0569-4206-b983-cbe18fba2d69"
      },
      "outputs": [],
      "source": [
        "print(x)"
      ]
    },
    {
      "cell_type": "code",
      "execution_count": null,
      "metadata": {
        "colab": {
          "base_uri": "https://localhost:8080/"
        },
        "id": "gu7LWAB5Q10_",
        "outputId": "36ef1c71-8dc3-4ca3-bc60-864f4c8047f8"
      },
      "outputs": [],
      "source": [
        "print(x.upper())\n",
        "print(x[:5:-1])"
      ]
    },
    {
      "cell_type": "code",
      "execution_count": null,
      "metadata": {
        "colab": {
          "base_uri": "https://localhost:8080/"
        },
        "id": "iyqPilrcTO8R",
        "outputId": "293feee5-be88-4245-e36b-b8f00be6fd60"
      },
      "outputs": [],
      "source": [
        "mesg = input(\"enter any name to check it is palindrome or not: \")\n",
        "if mesg == mesg[::-1]:\n",
        "  print(f\"you enter name {mesg} is palindrome\")\n",
        "else:\n",
        "  print(\"not palindrome\")"
      ]
    },
    {
      "cell_type": "code",
      "execution_count": null,
      "metadata": {
        "colab": {
          "base_uri": "https://localhost:8080/"
        },
        "id": "9s0ONoxTUtet",
        "outputId": "bde25109-6063-451c-c435-663a786029e5"
      },
      "outputs": [],
      "source": [
        "text = \"123456789\"\n",
        "middle = len(text) // 2\n",
        "print(text[middle::-1])\n"
      ]
    },
    {
      "cell_type": "code",
      "execution_count": null,
      "metadata": {
        "colab": {
          "base_uri": "https://localhost:8080/"
        },
        "id": "Wa7VQoQbVHAh",
        "outputId": "83dc7600-7da1-439a-da81-e444863f229d"
      },
      "outputs": [],
      "source": [
        "print(middle)"
      ]
    },
    {
      "cell_type": "code",
      "execution_count": 13,
      "metadata": {
        "colab": {
          "base_uri": "https://localhost:8080/"
        },
        "id": "jK2in3BYXfcc",
        "outputId": "45a0365a-b087-4db5-d50d-21b9d9214bb9"
      },
      "outputs": [
        {
          "name": "stdout",
          "output_type": "stream",
          "text": [
            "2\n"
          ]
        }
      ],
      "source": [
        "a = \"hello\"\n",
        "b = len(a) // 2\n",
        "print(b)"
      ]
    },
    {
      "cell_type": "code",
      "execution_count": 12,
      "metadata": {
        "colab": {
          "base_uri": "https://localhost:8080/"
        },
        "id": "FFFcxBpuaJ6G",
        "outputId": "fcc9e59b-8e17-4604-f7da-30987b7f74de"
      },
      "outputs": [
        {
          "name": "stdout",
          "output_type": "stream",
          "text": [
            "My name is pranith and I am 21 years old\n"
          ]
        }
      ],
      "source": [
        "print(\"My name is {} and I am {} years old\".format(\"pranith\", 21))"
      ]
    },
    {
      "cell_type": "code",
      "execution_count": null,
      "metadata": {
        "colab": {
          "base_uri": "https://localhost:8080/"
        },
        "id": "kk1q4NTXVa6D",
        "outputId": "aa7e5995-b275-459f-d2be-1f21593715bd"
      },
      "outputs": [],
      "source": [
        "name = \"pranith\"\n",
        "print(name)"
      ]
    },
    {
      "cell_type": "code",
      "execution_count": null,
      "metadata": {
        "colab": {
          "base_uri": "https://localhost:8080/"
        },
        "id": "asFL4xSsXF2g",
        "outputId": "8fbd46f3-c22a-4bc0-a2c2-7ebba8b0abc0"
      },
      "outputs": [],
      "source": [
        "x , y = 10, 25\n",
        "c = x + y\n",
        "print(f\"the sum of two numbers:{x} + {y} = {c}\")"
      ]
    },
    {
      "cell_type": "code",
      "execution_count": null,
      "metadata": {
        "colab": {
          "base_uri": "https://localhost:8080/"
        },
        "id": "HrwYGOe3YA4R",
        "outputId": "149fda35-c141-4b6b-fe9b-2ed6024636ad"
      },
      "outputs": [],
      "source": [
        "x = 42\n",
        "print(f\"type of x is {type(x)}\")"
      ]
    },
    {
      "cell_type": "code",
      "execution_count": null,
      "metadata": {
        "colab": {
          "base_uri": "https://localhost:8080/"
        },
        "id": "qatX7Z2JY2NN",
        "outputId": "b2f19de7-bf5b-4b52-a9d6-043b5b34a2d3"
      },
      "outputs": [],
      "source": [
        "age = 21\n",
        "print(f\"I am {age} years old.\")"
      ]
    },
    {
      "cell_type": "code",
      "execution_count": null,
      "metadata": {
        "colab": {
          "base_uri": "https://localhost:8080/"
        },
        "id": "v4pJwzKNl26U",
        "outputId": "583ff141-bc09-41ce-9331-72f78cfa21f7"
      },
      "outputs": [],
      "source": [
        "num1 = int(input(\"enter first number: \"))\n",
        "num2 = int(input(\"Enter second number: \"))\n",
        "\n",
        "sum = num1 + num2\n",
        "difference = num1 - num2\n",
        "product = num1 * num2\n",
        "quotient = num1 / num2\n",
        "\n",
        "print(f\"sum = {sum}, difference = {difference}, product = {product}, quotient = {quotient}\")\n"
      ]
    },
    {
      "cell_type": "code",
      "execution_count": null,
      "metadata": {
        "colab": {
          "base_uri": "https://localhost:8080/"
        },
        "id": "1tas56MUoX23",
        "outputId": "9e5adc7a-2da7-4ec5-9bdc-7f9a3b34906b"
      },
      "outputs": [],
      "source": [
        "print((5 + 3) * 2)"
      ]
    },
    {
      "cell_type": "code",
      "execution_count": null,
      "metadata": {
        "colab": {
          "base_uri": "https://localhost:8080/"
        },
        "id": "kjrE-BsirJOQ",
        "outputId": "cea095b7-637f-4ab8-9a6b-c4a245f69c21"
      },
      "outputs": [],
      "source": [
        "num1 , num2 = 35 , 20\n",
        "print(f\"{num1} % {num2} = {num1 % num2}\")"
      ]
    },
    {
      "cell_type": "code",
      "execution_count": null,
      "metadata": {
        "colab": {
          "base_uri": "https://localhost:8080/"
        },
        "id": "_UO12BJWr5yh",
        "outputId": "22079b39-f8e8-46ff-ba11-48997ba5b38d"
      },
      "outputs": [],
      "source": [
        "a = 350567\n",
        "b = 1000\n",
        "kilometers = a / 1000\n",
        "print(f\" {a} meters = {kilometers}\")"
      ]
    },
    {
      "cell_type": "code",
      "execution_count": 15,
      "metadata": {
        "colab": {
          "base_uri": "https://localhost:8080/"
        },
        "id": "0jOHtmdJt-PE",
        "outputId": "6eea57dc-11cb-4193-9d0c-bce955022acf"
      },
      "outputs": [
        {
          "name": "stdout",
          "output_type": "stream",
          "text": [
            "Pyhto\n",
            "Programming\n",
            "ACEGI\n",
            "World\n",
            "IAnepO\n"
          ]
        }
      ],
      "source": [
        "slicing = \"PyhtonProgramming\"\n",
        "print(slicing[0:5])\n",
        "print(slicing[6:])\n",
        "\n",
        "x = \"ABCDEFGHIJ\"\n",
        "print(x[::2])\n",
        "\n",
        "z = \"HelloWorld\"\n",
        "print(z[-5:])\n",
        "\n",
        "y = \"OpenAI\"\n",
        "print(y[::-1])"
      ]
    },
    {
      "cell_type": "code",
      "execution_count": 33,
      "metadata": {
        "colab": {
          "base_uri": "https://localhost:8080/"
        },
        "id": "WZU2KF4QLFkl",
        "outputId": "9d8cd9f5-3279-4bab-cd7c-4d3d2c0b724c"
      },
      "outputs": [
        {
          "name": "stdout",
          "output_type": "stream",
          "text": [
            "11\n",
            "ataDScience\n"
          ]
        }
      ],
      "source": [
        "data = \"DataScience\"\n",
        "print(len(data))\n",
        "print(data[3::-1] + data[4:])\n",
        "\n"
      ]
    },
    {
      "cell_type": "code",
      "execution_count": 35,
      "metadata": {
        "colab": {
          "base_uri": "https://localhost:8080/"
        },
        "id": "EdIF50XuMeXw",
        "outputId": "0b1a0df4-ecc1-4880-ff11-778d984f2fb2"
      },
      "outputs": [
        {
          "name": "stdout",
          "output_type": "stream",
          "text": [
            "bdfh\n",
            "10\n",
            "bcdefghi\n"
          ]
        }
      ],
      "source": [
        "z = \"abcdefghij\"\n",
        "print(z[1:9:2])\n",
        "print(len(z))\n",
        "print(z[1:-1])"
      ]
    },
    {
      "cell_type": "code",
      "execution_count": null,
      "metadata": {
        "colab": {
          "base_uri": "https://localhost:8080/"
        },
        "id": "e0aCT8skOZG8",
        "outputId": "dd6604e8-9e7c-4e18-ff03-3ab13ef00be4"
      },
      "outputs": [],
      "source": [
        "user = input(\"Enter a name to get first five character: \")\n",
        "print(user[0:5])"
      ]
    },
    {
      "cell_type": "code",
      "execution_count": null,
      "metadata": {
        "colab": {
          "base_uri": "https://localhost:8080/"
        },
        "id": "IYMSLG3yPV60",
        "outputId": "81b24ece-0a09-4dd2-d956-f742a15be59e"
      },
      "outputs": [],
      "source": [
        "age = int(input(\"Enter your age: \"))\n",
        "print(f\"After 5 years, you will be {age + 5} years old.\")"
      ]
    },
    {
      "cell_type": "code",
      "execution_count": null,
      "metadata": {
        "colab": {
          "base_uri": "https://localhost:8080/"
        },
        "id": "AOZhsuvSP6Qa",
        "outputId": "d8533889-afe9-40b4-d7c8-a2b009dc0b2d"
      },
      "outputs": [],
      "source": [
        "user = \"python is fun\"\n",
        "reverse = user[::-1]\n",
        "print(reverse)"
      ]
    },
    {
      "cell_type": "code",
      "execution_count": null,
      "metadata": {
        "colab": {
          "base_uri": "https://localhost:8080/"
        },
        "id": "suWAB7r_kisD",
        "outputId": "4befdb99-7873-4b4d-a0da-86f918736406"
      },
      "outputs": [],
      "source": [
        "sentence = input(\"Enter a sentence: \")\n",
        "words = sentence.split()          # split into list of words\n",
        "reversed_sentence = \"--\".join(words[::-1])  # reverse list and join back\n",
        "print(reversed_sentence)\n"
      ]
    },
    {
      "cell_type": "code",
      "execution_count": null,
      "metadata": {
        "colab": {
          "base_uri": "https://localhost:8080/"
        },
        "id": "MT7_VWXxmYZ5",
        "outputId": "dc827e38-de39-4182-b079-81d419890d83"
      },
      "outputs": [],
      "source": [
        "num = float(input(\"Enter an integer: \"))\n",
        "print(\"Positive\" if num > 0 else \"Negative\" if num < 0 else \"Zero\")\n"
      ]
    },
    {
      "cell_type": "code",
      "execution_count": null,
      "metadata": {
        "colab": {
          "base_uri": "https://localhost:8080/"
        },
        "id": "Uiin1uXpEo2H",
        "outputId": "7c3af834-d67d-4edb-ee42-3b1c1b406b24"
      },
      "outputs": [],
      "source": [
        "pi = 3.142345\n",
        "print(f\"value of pi is: {pi:.4f}\")"
      ]
    },
    {
      "cell_type": "code",
      "execution_count": null,
      "metadata": {
        "colab": {
          "base_uri": "https://localhost:8080/"
        },
        "id": "FWbAtcgGKvJ1",
        "outputId": "4a8956f5-b295-48eb-8b16-5427a25783ad"
      },
      "outputs": [],
      "source": [
        "from num2words import num2words\n",
        "\n",
        "num = int(input(\"enter number\"))\n",
        "words = num2words(num, lang='en_IN')  # Indian style\n",
        "print(words.capitalize())\n"
      ]
    },
    {
      "cell_type": "code",
      "execution_count": null,
      "metadata": {
        "colab": {
          "base_uri": "https://localhost:8080/"
        },
        "id": "B4fGI7vNLJZ3",
        "outputId": "7c811a9f-dec6-4cd5-bf6d-81ff02b6e4df"
      },
      "outputs": [],
      "source": [
        "a = \"pranith\"\n",
        "print(f\"{a:>24}\")"
      ]
    },
    {
      "cell_type": "code",
      "execution_count": 36,
      "metadata": {},
      "outputs": [
        {
          "name": "stdout",
          "output_type": "stream",
          "text": [
            "2.0\n"
          ]
        }
      ],
      "source": [
        "print(4 /2)\n"
      ]
    },
    {
      "cell_type": "code",
      "execution_count": 40,
      "metadata": {},
      "outputs": [
        {
          "name": "stdout",
          "output_type": "stream",
          "text": [
            "Score: 85.67%\n"
          ]
        }
      ],
      "source": [
        "score = 0.8567\n",
        "print(f\"Score: {score:.2%}\")\n"
      ]
    },
    {
      "cell_type": "code",
      "execution_count": 43,
      "metadata": {},
      "outputs": [
        {
          "name": "stdout",
          "output_type": "stream",
          "text": [
            "Hex: 10\n",
            "HEX: 10\n",
            "Bin: 10000\n",
            "Oct: 20\n"
          ]
        }
      ],
      "source": [
        "n = 16\n",
        "print(f\"Hex: {n:x}\")  # lowercase hex\n",
        "print(f\"HEX: {n:X}\")  # uppercase hex\n",
        "print(f\"Bin: {n:b}\")  # binary\n",
        "print(f\"Oct: {n:o}\")  # octal\n"
      ]
    },
    {
      "cell_type": "code",
      "execution_count": 47,
      "metadata": {},
      "outputs": [
        {
          "name": "stdout",
          "output_type": "stream",
          "text": [
            "Amount: 1,000,000\n"
          ]
        }
      ],
      "source": [
        "money = 1000000\n",
        "print(f\"Amount: {money:,}\")\n"
      ]
    }
  ],
  "metadata": {
    "colab": {
      "provenance": [],
      "toc_visible": true
    },
    "kernelspec": {
      "display_name": "Python 3",
      "name": "python3"
    },
    "language_info": {
      "codemirror_mode": {
        "name": "ipython",
        "version": 3
      },
      "file_extension": ".py",
      "mimetype": "text/x-python",
      "name": "python",
      "nbconvert_exporter": "python",
      "pygments_lexer": "ipython3",
      "version": "3.13.3"
    }
  },
  "nbformat": 4,
  "nbformat_minor": 0
}
